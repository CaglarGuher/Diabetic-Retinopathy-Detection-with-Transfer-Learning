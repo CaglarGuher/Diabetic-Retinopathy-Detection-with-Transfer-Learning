{
 "cells": [
  {
   "cell_type": "code",
   "execution_count": 1,
   "metadata": {},
   "outputs": [
    {
     "name": "stderr",
     "output_type": "stream",
     "text": [
      "c:\\Users\\PC\\Desktop\\Diabetic_Retinopathy\\utils.py:15: DeprecationWarning: The module `ray.tune.suggest` has been moved to `ray.tune.search` and the old location will be deprecated soon. Please adjust your imports to point to the new location. Example: Do a global search and replace `ray.tune.suggest` with `ray.tune.search`.\n",
      "  from ray.tune.suggest.optuna import OptunaSearch\n",
      "c:\\Users\\PC\\Desktop\\Diabetic_Retinopathy\\utils.py:15: DeprecationWarning: The module `ray.tune.suggest.optuna` has been moved to `ray.tune.search.optuna` and the old location will be deprecated soon. Please adjust your imports to point to the new location. Example: Do a global search and replace `ray.tune.suggest.optuna` with `ray.tune.search.optuna`.\n",
      "  from ray.tune.suggest.optuna import OptunaSearch\n"
     ]
    }
   ],
   "source": [
    "import torch\n",
    "from utils import get_predictions\n",
    "import os\n",
    "from utils import get_data,preprocess_image,plot_roc_curve\n",
    "import pandas as pd\n",
    "from models import model_dict,select_model\n",
    "from collections import Counter\n",
    "from sklearn.metrics import accuracy_score, f1_score, precision_score, recall_score, confusion_matrix\n",
    "import numpy as np"
   ]
  },
  {
   "cell_type": "code",
   "execution_count": 2,
   "metadata": {},
   "outputs": [],
   "source": [
    "\n",
    "dataset_total = pd.read_csv(\"C:/Users/PC/Desktop/retinopathy_data/data/labels/label.csv\")\n",
    "validation_directiory = \"C:/Users/PC/Desktop/retinopathy_data/data/validation_images\"\n",
    "train_test_image_directory = \"C:/Users/PC/Desktop/retinopathy_data/data/test_train_images\"\n",
    "device = torch.device('cuda' if torch.cuda.is_available() else 'cpu')\n",
    "\n",
    "files_and_dirs = os.listdir(\"C:/Users/PC/Desktop/saved_models/\") \n",
    "\n"
   ]
  },
  {
   "cell_type": "code",
   "execution_count": 3,
   "metadata": {},
   "outputs": [],
   "source": [
    "all_predictions = []\n",
    "weights = []\n",
    "\n",
    "for items in files_and_dirs:\n",
    "    model_name, file_extension = os.path.splitext(items)\n",
    "\n",
    "    _, _, valid_data = get_data(dataset_total, train_test_image_directory, validation_directiory,\n",
    "                                train_test_sample_size=10, batch_size=16,\n",
    "                                image_filter=preprocess_image, model=model_name, validation=True)\n",
    "\n",
    "    state_dict = torch.load(f\"C:/Users/PC/Desktop/saved_models/{items}\")\n",
    "\n",
    "    model_instance = select_model(model_name)\n",
    "\n",
    "    model_instance = model_instance.to(device)\n",
    "\n",
    "    model_instance.load_state_dict(state_dict)\n",
    "\n",
    "    weight = model_dict[model_name][\"weight\"]\n",
    "    weights.append(weight)\n",
    "\n",
    "    predictions = get_predictions(model_instance, valid_data, device)\n",
    "    \n",
    "    all_predictions.append(predictions)"
   ]
  },
  {
   "cell_type": "code",
   "execution_count": 4,
   "metadata": {},
   "outputs": [],
   "source": [
    "all_predictions = list(zip(*all_predictions))\n",
    "\n",
    "ensemble_preds = []\n",
    "for preds in all_predictions:\n",
    "    weighted_votes = Counter()\n",
    "    for pred, weight in zip(preds, weights):\n",
    "        weighted_votes[pred] += weight\n",
    "    ensemble_preds.append(weighted_votes.most_common(1)[0][0])\n",
    "\n",
    "predicted_labels_list = [int(label.item()) for label in ensemble_preds]\n",
    "\n",
    "true_labels = []\n",
    "for _, labels in valid_data:\n",
    "    true_labels.extend(labels.numpy())"
   ]
  },
  {
   "cell_type": "code",
   "execution_count": 5,
   "metadata": {},
   "outputs": [],
   "source": [
    "def evaluate_classification_metrics(y_true, y_pred):\n",
    "    accuracy = accuracy_score(y_true, y_pred)\n",
    "    f1 = f1_score(y_true, y_pred, average='weighted')\n",
    "    precision = precision_score(y_true, y_pred, average='weighted')\n",
    "    recall = recall_score(y_true, y_pred, average='weighted')\n",
    "    conf_matrix = confusion_matrix(y_true, y_pred)\n",
    "\n",
    "    return {\n",
    "        'accuracy': accuracy,\n",
    "        'f1_score': f1,\n",
    "        'precision': precision,\n",
    "        'recall': recall,\n",
    "        'confusion_matrix': conf_matrix\n",
    "    }\n",
    "\n"
   ]
  },
  {
   "cell_type": "code",
   "execution_count": 9,
   "metadata": {},
   "outputs": [
    {
     "data": {
      "text/plain": [
       "{'accuracy': 0.252,\n",
       " 'f1_score': 0.31606503700939226,\n",
       " 'precision': 0.5639642799678198,\n",
       " 'recall': 0.25199999999999995,\n",
       " 'confusion_matrix': array([[46, 34, 80, 12,  1],\n",
       "        [ 4, 10, 16,  6,  0],\n",
       "        [ 8,  8,  6,  3,  0],\n",
       "        [ 0,  0,  7,  1,  0],\n",
       "        [ 2,  2,  4,  0,  0]], dtype=int64)}"
      ]
     },
     "execution_count": 9,
     "metadata": {},
     "output_type": "execute_result"
    }
   ],
   "source": [
    "evaluate_classification_metrics(true_labels,predicted_labels_list)"
   ]
  }
 ],
 "metadata": {
  "kernelspec": {
   "display_name": "machine_learn",
   "language": "python",
   "name": "python3"
  },
  "language_info": {
   "codemirror_mode": {
    "name": "ipython",
    "version": 3
   },
   "file_extension": ".py",
   "mimetype": "text/x-python",
   "name": "python",
   "nbconvert_exporter": "python",
   "pygments_lexer": "ipython3",
   "version": "3.9.15"
  },
  "orig_nbformat": 4
 },
 "nbformat": 4,
 "nbformat_minor": 2
}
